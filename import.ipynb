{
 "cells": [
  {
   "cell_type": "markdown",
   "metadata": {},
   "source": [
    "This script will traverse the OpenProblemLibrary folder and for each .pg file, create a entry in a ptx file that imports that as a webwork exercise."
   ]
  },
  {
   "cell_type": "code",
   "execution_count": 37,
   "metadata": {},
   "outputs": [],
   "source": [
    "from pathlib import Path\n",
    "\n",
    "\n",
    "def get_pg_paths(root):\n",
    "    \"\"\"Get all the paths of the .pg files in the given directory\"\"\"\n",
    "    pg_paths = []\n",
    "    for path in root.iterdir():\n",
    "        if path.is_file() and path.suffix == \".pg\":\n",
    "            pg_paths.append(str(path))\n",
    "        elif path.is_dir():\n",
    "            pg_paths.extend(get_pg_paths(path))\n",
    "    return pg_paths\n",
    "\n",
    "# Save the paths of all the files to the text file pgs.txt\n",
    "root = Path(\".\")\n",
    "pg_paths = get_pg_paths(root)\n",
    "\n",
    "# Now exclude any path that contains the string \"calculus\":\n",
    "blacklist = [\"calculus\", \"calc\", \"stew\", \"algebra\", \"physics\", \"mech\", \"thermo\", \"pde\", \"math95\", \"apex\", \"anton\", \"matrix\", \"alfred\", \"finance\", \"complex\", \"deriv\", \"integral\", \"trig\", \"diffeq\", \"diff_eq\", \"vector\", \"statistics\", \"stat\",  \"parametic\", \"geometry\", \"gateway\", \"precal\", \"ee/\", \"differential\", \"dartmouth\", \"basic\", \"authoring\", \"limit\", \"grps\", \"riemann\", \"taylor\", \"Union/\", \"ma1\", \"multi\", \"grade\", \"metu\", \"dynamics\", \"quantitative\", \"series\", \"sample\", \"michigan\", \"actuarial\", \"matrices\", \"linear\", \"capa\", \"ubc\", \"cuny\", \"electro\" ]\n",
    "pg_paths = [path for path in pg_paths if not any([word in path.lower() for word in blacklist])]\n",
    "\n",
    "\n",
    "\n",
    "with open(\"pgs.txt\", \"w\") as f:\n",
    "    for path in pg_paths:\n",
    "        f.write(path + \"\\n\")\n"
   ]
  }
 ],
 "metadata": {
  "kernelspec": {
   "display_name": "Python 3",
   "language": "python",
   "name": "python3"
  },
  "language_info": {
   "codemirror_mode": {
    "name": "ipython",
    "version": 3
   },
   "file_extension": ".py",
   "mimetype": "text/x-python",
   "name": "python",
   "nbconvert_exporter": "python",
   "pygments_lexer": "ipython3",
   "version": "3.12.3"
  }
 },
 "nbformat": 4,
 "nbformat_minor": 2
}
